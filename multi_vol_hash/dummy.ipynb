{
 "cells": [
  {
   "cell_type": "code",
   "execution_count": 1,
   "metadata": {},
   "outputs": [],
   "source": [
    "import os\n",
    "from pathlib import Path\n",
    "from typing import Optional\n",
    "\n",
    "import fastmri\n",
    "import h5py\n",
    "import matplotlib.pyplot as plt\n",
    "import numpy as np\n",
    "import torch\n",
    "from data_utils import *\n",
    "from datasets import *\n",
    "from fastmri.data.transforms import tensor_to_complex_np\n",
    "from skimage.metrics import peak_signal_noise_ratio, structural_similarity\n",
    "from torch.utils.data import DataLoader, TensorDataset\n",
    "\n",
    "from model import *\n",
    "from torch.optim import SGD, Adam, AdamW\n",
    "from train_utils import *"
   ]
  },
  {
   "cell_type": "code",
   "execution_count": null,
   "metadata": {},
   "outputs": [
    {
     "name": "stdout",
     "output_type": "stream",
     "text": [
      "13493760\n"
     ]
    }
   ],
   "source": [
    "model_checkpoint = '/scratch_net/ken/mcrespo/proj_marina/logs/multivol/2024-11-13_12h31m52s/checkpoints/epoch_0999.pt'  # TODO: SET (OR LEAVE COMMENTED).\n",
    "files = '/itet-stor/mcrespo/bmicdatasets-originals/Originals/fastMRI/brain/multicoil_train/'\n",
    "\n",
    "\n",
    "dataset = KCoordDataset(files, n_volumes=3, n_slices=3, with_mask=False)\n",
    "print(len(dataset))\n",
    "# loader_config = config[\"dataloader\"]\n",
    "# dataloader = DataLoader(dataset, batch_size=BATCH_SIZE, num_workers=NUM_WORKERS, shuffle=True, collate_fn=collate_fn, pin_memory=PIN_MEMORY, worker_init_fn=seed_worker, generator=RS_TORCH)\n"
   ]
  },
  {
   "cell_type": "code",
   "execution_count": 4,
   "metadata": {},
   "outputs": [
    {
     "name": "stderr",
     "output_type": "stream",
     "text": [
      "/tmp/ipykernel_24629/460602625.py:25: FutureWarning: You are using `torch.load` with `weights_only=False` (the current default value), which uses the default pickle module implicitly. It is possible to construct malicious pickle data which will execute arbitrary code during unpickling (See https://github.com/pytorch/pytorch/blob/main/SECURITY.md#untrusted-models for more details). In a future release, the default value for `weights_only` will be flipped to `True`. This limits the functions that could be executed during unpickling. Arbitrary objects will no longer be allowed to be loaded via this mode unless they are explicitly allowlisted by the user via `torch.serialization.add_safe_globals`. We recommend you start setting `weights_only=True` for any use case where you don't have full control of the loaded file. Please open an issue on GitHub for any issues related to this experimental feature.\n",
      "  model_state_dict = torch.load(model_checkpoint,  map_location=torch.device('cpu'))[\"model_state_dict\"]\n"
     ]
    },
    {
     "name": "stdout",
     "output_type": "stream",
     "text": [
      "Checkpoint loaded successfully.\n"
     ]
    }
   ],
   "source": [
    "gamma = 0.1\n",
    "sigma = 0.01\n",
    "lr = 5.e-6\n",
    "embedding_dim = 512\n",
    "\n",
    "OPTIMIZER_CLASSES = {\n",
    "    \"Adam\": Adam,\n",
    "    \"AdamW\": AdamW,\n",
    "    \"SGD\": SGD,\n",
    "}\n",
    "\n",
    "LOSS_CLASSES = {\n",
    "    \"MAE\": MAELoss,\n",
    "    \"DMAE\": DMAELoss,\n",
    "    \"MSE\": MSELoss,\n",
    "    \"MSEDist\": MSEDistLoss,\n",
    "    \"HDR\": HDRLoss,\n",
    "    \"LogL2\": LogL2Loss,\n",
    "    \"MSEL2\": MSEL2Loss,\n",
    "}\n",
    "\n",
    "\n",
    "model = Siren(hidden_dim=512, levels=5, embedding_dim=512, n_min=45, n_layers=6, out_dim=2, dropout_rate=0)\n",
    "# Load checkpoint.\n",
    "model_state_dict = torch.load(model_checkpoint,  map_location=torch.device('cpu'))[\"model_state_dict\"]\n",
    "model.load_state_dict(model_state_dict)\n",
    "print(\"Checkpoint loaded successfully.\")\n",
    "\n",
    "# Only embeddings are optimized.\n",
    "for param in model.parameters():\n",
    "    param.requires_grad = False\n",
    "\n",
    "\n",
    "\n",
    "embeddings = torch.nn.Embedding(\n",
    "    len(dataset.metadata), embedding_dim\n",
    ")\n",
    "torch.nn.init.normal_(\n",
    "    embeddings.weight.data, 0.0, sigma\n",
    ")\n",
    "optimizer = OPTIMIZER_CLASSES[\"Adam\"](\n",
    "    embeddings.parameters(), lr\n",
    ")\n",
    "\n",
    "loss_fn = LOSS_CLASSES[\"MSEL2\"](gamma, sigma)"
   ]
  },
  {
   "cell_type": "code",
   "execution_count": 5,
   "metadata": {},
   "outputs": [],
   "source": [
    "from pathlib import Path\n",
    "import fastmri\n",
    "from fastmri.data.subsample import EquiSpacedMaskFunc, RandomMaskFunc\n",
    "\n",
    "path_to_data = '/itet-stor/mcrespo/bmicdatasets-originals/Originals/fastMRI/brain/multicoil_train/'\n",
    "n_volumes = 1\n",
    "center_frac = 0.15\n",
    "acceleration = 4\n",
    "n_slices = 2\n",
    "with_mask = True\n",
    "\n",
    "path_to_data = Path(path_to_data)\n",
    "if path_to_data.is_dir():\n",
    "    files = sorted(\n",
    "        [\n",
    "            file\n",
    "            for file in path_to_data.iterdir()\n",
    "            if file.suffix == \".h5\" and \"AXT1POST_205\" in file.name\n",
    "        ]\n",
    "    )[:n_volumes]\n",
    "else:\n",
    "    files = [path_to_data]\n",
    "\n",
    "# For each MRI volume in the dataset...\n",
    "for vol_id, file in enumerate(files):\n",
    "    # Load MRI volume\n",
    "    with h5py.File(file, \"r\") as hf:\n",
    "        volume_kspace = to_tensor(preprocess_kspace(hf[\"kspace\"][()]))[\n",
    "            :n_slices\n",
    "        ]\n"
   ]
  },
  {
   "cell_type": "code",
   "execution_count": 7,
   "metadata": {},
   "outputs": [],
   "source": [
    "with_mask = False\n",
    "mask_func = EquiSpacedMaskFunc(\n",
    "    center_fractions=[center_frac], accelerations=[acceleration]\n",
    ")\n",
    "shape = (1,) * len(volume_kspace.shape[:-3]) + tuple(\n",
    "    volume_kspace.shape[-3:]\n",
    ")\n",
    "mask, _ = mask_func(\n",
    "    shape, None, vol_id\n",
    ")  # use the volume index as random seed.\n",
    "\n",
    "mask, left_idx, right_idx = remove_center(mask)\n",
    "\n",
    "n_slices, n_coils, height, width = volume_kspace.shape[:-1]\n",
    "\n",
    "if with_mask:\n",
    "    kx_ids = torch.where(mask.squeeze())[0]\n",
    "else:\n",
    "    kx_ids = torch.from_numpy(np.setdiff1d(np.arange(width), np.arange(left_idx, right_idx))) # NOTE: Uncomment to include all the datapoints (fully-sampled volume), with the exception of the center region.\n",
    "kx_ids = torch.arange(width)\n",
    "ky_ids = torch.arange(height)\n",
    "kz_ids = torch.arange(n_slices)\n",
    "coil_ids = torch.arange(n_coils)\n",
    "\n",
    "kspace_ids = torch.meshgrid(kx_ids, ky_ids, kz_ids, coil_ids, indexing=\"ij\")\n",
    "kspace_ids = torch.stack(kspace_ids, dim=-1).reshape(-1, len(kspace_ids))\n",
    "\n",
    "##################################################\n",
    "# Computing the inputs\n",
    "##################################################\n",
    "# Convert indices into normalized coordinates in [-1, 1].\n",
    "kspace_coords = torch.zeros((kspace_ids.shape[0], 4), dtype=torch.float)\n",
    "kspace_coords[:, :2] = kspace_ids[:, :2]\n",
    "\n",
    "kspace_coords[:, 2] = (2 * kspace_ids[:, 2]) / (n_slices - 1) - 1\n",
    "kspace_coords[:, 3] = (2 * kspace_ids[:, 3]) / (n_coils - 1) - 1\n",
    "\n",
    "# Used to determine the latent vector (one per volume).\n",
    "vol_ids = torch.tensor([vol_id] * len(kspace_coords)).unsqueeze(1)\n",
    "\n",
    "# Appended volume index\n",
    "# self.inputs.append(torch.cat((vol_ids, kspace_coords), dim=1))\n",
    "\n",
    "##################################################\n",
    "# Computing the targets\n",
    "##################################################\n",
    "targets = volume_kspace[\n",
    "    kspace_ids[:, 2], kspace_ids[:, 3], kspace_ids[:, 1], kspace_ids[:, 0]\n",
    "]\n"
   ]
  },
  {
   "cell_type": "code",
   "execution_count": 15,
   "metadata": {},
   "outputs": [
    {
     "data": {
      "text/plain": [
       "tensor([9.0977e-22, 2.3982e-21, 1.0293e-20,  ..., 2.2790e-20, 2.0938e-20,\n",
       "        3.3247e-20], dtype=torch.float64)"
      ]
     },
     "execution_count": 15,
     "metadata": {},
     "output_type": "execute_result"
    }
   ],
   "source": [
    "torch.view_as_complex(targets).abs()"
   ]
  },
  {
   "cell_type": "code",
   "execution_count": 22,
   "metadata": {},
   "outputs": [
    {
     "data": {
      "image/png": "[encoded data removed]",
      "text/plain": [
       "<Figure size 640x480 with 1 Axes>"
      ]
     },
     "metadata": {},
     "output_type": "display_data"
    }
   ],
   "source": [
    "numpy_values = np.abs(torch.view_as_complex(targets).numpy())\n",
    "\n",
    "# Plot the histogram\n",
    "plt.hist(numpy_values,  log = True, bins = 100)\n",
    "plt.title('Histogram of Tensor Values')\n",
    "plt.xlabel('Value')\n",
    "plt.ylabel('Frequency')\n",
    "plt.grid(True)\n",
    "plt.show()"
   ]
  },
  {
   "cell_type": "code",
   "execution_count": null,
   "metadata": {},
   "outputs": [
    {
     "ename": "RuntimeError",
     "evalue": "Boolean value of Tensor with more than one value is ambiguous",
     "output_type": "error",
     "traceback": [
      "\u001b[0;31m---------------------------------------------------------------------------\u001b[0m",
      "\u001b[0;31mRuntimeError\u001b[0m                              Traceback (most recent call last)",
      "Cell \u001b[0;32mIn[12], line 1\u001b[0m\n\u001b[0;32m----> 1\u001b[0m epsilon \u001b[38;5;241m=\u001b[39m \u001b[38;5;28mmin\u001b[39m(targets)\n\u001b[1;32m      2\u001b[0m np\u001b[38;5;241m.\u001b[39mlog(targets\u001b[38;5;241m+\u001b[39mepsilon)\n",
      "\u001b[0;31mRuntimeError\u001b[0m: Boolean value of Tensor with more than one value is ambiguous"
     ]
    }
   ],
   "source": [
    "epsilon = min()\n",
    "np.log(targets+epsilon)"
   ]
  },
  {
   "cell_type": "code",
   "execution_count": null,
   "metadata": {},
   "outputs": [],
   "source": [
    "dataloader = DataLoader(\n",
    "    dataset,\n",
    "    batch_size=120_000,\n",
    "    num_workers=0,\n",
    "    shuffle=True,\n",
    "    pin_memory=False,\n",
    "    )\n",
    "\n",
    "for batch_idx, (inputs, targets) in enumerate(dataloader):\n",
    "    # inputs, targets = inputs.to(self.device), targets.to(self.device)\n",
    "\n",
    "    # Inputs has dimension Nm x 5, position 0 corresponds to volID\n",
    "    coords, latent_embeddings = inputs[:, 1:], embeddings(\n",
    "        inputs[:, 0].long()\n",
    "    )\n",
    "    "
   ]
  },
  {
   "cell_type": "code",
   "execution_count": null,
   "metadata": {},
   "outputs": [],
   "source": []
  },
  {
   "cell_type": "code",
   "execution_count": null,
   "metadata": {},
   "outputs": [],
   "source": []
  },
  {
   "cell_type": "code",
   "execution_count": null,
   "metadata": {},
   "outputs": [],
   "source": []
  },
  {
   "cell_type": "code",
   "execution_count": null,
   "metadata": {},
   "outputs": [],
   "source": []
  }
 ],
 "metadata": {
  "kernelspec": {
   "display_name": "pytcu11",
   "language": "python",
   "name": "python3"
  },
  "language_info": {
   "codemirror_mode": {
    "name": "ipython",
    "version": 3
   },
   "file_extension": ".py",
   "mimetype": "text/x-python",
   "name": "python",
   "nbconvert_exporter": "python",
   "pygments_lexer": "ipython3",
   "version": "3.12.5"
  }
 },
 "nbformat": 4,
 "nbformat_minor": 4
}
