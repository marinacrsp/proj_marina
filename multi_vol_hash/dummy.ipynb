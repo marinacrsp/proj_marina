{
 "cells": [
  {
   "cell_type": "code",
   "execution_count": 1,
   "metadata": {},
   "outputs": [],
   "source": [
    "import os\n",
    "from pathlib import Path\n",
    "from typing import Optional\n",
    "\n",
    "import fastmri\n",
    "import h5py\n",
    "import matplotlib.pyplot as plt\n",
    "import numpy as np\n",
    "import torch\n",
    "from data_utils import *\n",
    "from datasets import *\n",
    "from fastmri.data.transforms import tensor_to_complex_np\n",
    "from skimage.metrics import peak_signal_noise_ratio, structural_similarity\n",
    "from torch.utils.data import DataLoader, TensorDataset\n",
    "\n",
    "from model import *\n",
    "from torch.optim import SGD, Adam, AdamW\n",
    "from train_utils import *"
   ]
  },
  {
   "cell_type": "code",
   "execution_count": 12,
   "metadata": {},
   "outputs": [
    {
     "name": "stdout",
     "output_type": "stream",
     "text": [
      "14534400\n"
     ]
    }
   ],
   "source": [
    "model_checkpoint = '/scratch_net/ken/mcrespo/proj_marina/logs/multivol/2024-11-13_12h31m52s/checkpoints/epoch_0999.pt'  # TODO: SET (OR LEAVE COMMENTED).\n",
    "files = '/itet-stor/mcrespo/bmicdatasets-originals/Originals/fastMRI/brain/multicoil_train/'\n",
    "\n",
    "\n",
    "dataset = KCoordDataset(files, n_volumes=3, n_slices=3, with_mask=False)\n",
    "print(len(dataset))\n",
    "# loader_config = config[\"dataloader\"]\n",
    "# dataloader = DataLoader(dataset, batch_size=BATCH_SIZE, num_workers=NUM_WORKERS, shuffle=True, collate_fn=collate_fn, pin_memory=PIN_MEMORY, worker_init_fn=seed_worker, generator=RS_TORCH)\n",
    "# dataloader = DataLoader(\n",
    "#     dataset,\n",
    "#     batch_size=120_000,\n",
    "#     num_workers=0,\n",
    "#     shuffle=True,\n",
    "#     pin_memory=False,\n",
    "#     )"
   ]
  },
  {
   "cell_type": "code",
   "execution_count": null,
   "metadata": {},
   "outputs": [],
   "source": []
  },
  {
   "cell_type": "code",
   "execution_count": 11,
   "metadata": {},
   "outputs": [
    {
     "data": {
      "text/plain": [
       "84"
      ]
     },
     "execution_count": 11,
     "metadata": {},
     "output_type": "execute_result"
    }
   ],
   "source": [
    "30471680//360_000"
   ]
  },
  {
   "cell_type": "code",
   "execution_count": 5,
   "metadata": {},
   "outputs": [
    {
     "name": "stdout",
     "output_type": "stream",
     "text": [
      "Checkpoint loaded successfully.\n"
     ]
    },
    {
     "name": "stderr",
     "output_type": "stream",
     "text": [
      "/tmp/ipykernel_3295987/3476506335.py:25: FutureWarning: You are using `torch.load` with `weights_only=False` (the current default value), which uses the default pickle module implicitly. It is possible to construct malicious pickle data which will execute arbitrary code during unpickling (See https://github.com/pytorch/pytorch/blob/main/SECURITY.md#untrusted-models for more details). In a future release, the default value for `weights_only` will be flipped to `True`. This limits the functions that could be executed during unpickling. Arbitrary objects will no longer be allowed to be loaded via this mode unless they are explicitly allowlisted by the user via `torch.serialization.add_safe_globals`. We recommend you start setting `weights_only=True` for any use case where you don't have full control of the loaded file. Please open an issue on GitHub for any issues related to this experimental feature.\n",
      "  model_state_dict = torch.load(model_checkpoint)[\"model_state_dict\"]\n"
     ]
    }
   ],
   "source": [
    "gamma = 0.1\n",
    "sigma = 0.01\n",
    "lr = 5.e-6\n",
    "embedding_dim = 512\n",
    "\n",
    "OPTIMIZER_CLASSES = {\n",
    "    \"Adam\": Adam,\n",
    "    \"AdamW\": AdamW,\n",
    "    \"SGD\": SGD,\n",
    "}\n",
    "\n",
    "LOSS_CLASSES = {\n",
    "    \"MAE\": MAELoss,\n",
    "    \"DMAE\": DMAELoss,\n",
    "    \"MSE\": MSELoss,\n",
    "    \"MSEDist\": MSEDistLoss,\n",
    "    \"HDR\": HDRLoss,\n",
    "    \"LogL2\": LogL2Loss,\n",
    "    \"MSEL2\": MSEL2Loss,\n",
    "}\n",
    "\n",
    "\n",
    "model = Siren(hidden_dim=512, levels=5, embedding_dim=512, n_min=45, n_layers=6, out_dim=2, dropout_rate=0)\n",
    "# Load checkpoint.\n",
    "model_state_dict = torch.load(model_checkpoint)[\"model_state_dict\"]\n",
    "model.load_state_dict(model_state_dict)\n",
    "print(\"Checkpoint loaded successfully.\")\n",
    "\n",
    "# Only embeddings are optimized.\n",
    "for param in model.parameters():\n",
    "    param.requires_grad = False\n",
    "\n",
    "\n",
    "\n",
    "embeddings = torch.nn.Embedding(\n",
    "    len(dataset.metadata), embedding_dim\n",
    ")\n",
    "torch.nn.init.normal_(\n",
    "    embeddings.weight.data, 0.0, sigma\n",
    ")\n",
    "optimizer = OPTIMIZER_CLASSES[\"Adam\"](\n",
    "    embeddings.parameters(), lr\n",
    ")\n",
    "\n",
    "loss_fn = LOSS_CLASSES[\"MSEL2\"](gamma, sigma)"
   ]
  },
  {
   "cell_type": "code",
   "execution_count": 6,
   "metadata": {},
   "outputs": [
    {
     "name": "stdout",
     "output_type": "stream",
     "text": [
      "model Siren(\n",
      "  (embed_fn): hash_encoder(\n",
      "    (embeddings): ModuleList(\n",
      "      (0): Embedding(2500, 2)\n",
      "      (1-4): 4 x Embedding(4096, 2)\n",
      "    )\n",
      "  )\n",
      "  (sine_layers): ModuleList(\n",
      "    (0): SineLayer(\n",
      "      (linear): Linear(in_features=524, out_features=512, bias=True)\n",
      "    )\n",
      "    (1-2): 2 x SineLayer(\n",
      "      (linear): Linear(in_features=512, out_features=512, bias=True)\n",
      "    )\n",
      "    (3): SineLayer(\n",
      "      (linear): Linear(in_features=1036, out_features=512, bias=True)\n",
      "    )\n",
      "    (4-5): 2 x SineLayer(\n",
      "      (linear): Linear(in_features=512, out_features=512, bias=True)\n",
      "    )\n",
      "  )\n",
      "  (output_layer): Linear(in_features=512, out_features=2, bias=True)\n",
      ")\n",
      "loss <train_utils.MSEL2Loss object at 0x7f4c73c49760>\n",
      "optimizer Adam (\n",
      "Parameter Group 0\n",
      "    amsgrad: False\n",
      "    betas: (0.9, 0.999)\n",
      "    capturable: False\n",
      "    differentiable: False\n",
      "    eps: 1e-08\n",
      "    foreach: None\n",
      "    fused: None\n",
      "    lr: 5e-06\n",
      "    maximize: False\n",
      "    weight_decay: 0\n",
      ")\n",
      "Number of steps per epoch: 122\n"
     ]
    }
   ],
   "source": [
    "print(f\"model {model}\")\n",
    "print(f\"loss {loss_fn}\")\n",
    "print(f\"optimizer {optimizer}\")\n",
    "# print(f\"scheduler {scheduler}\")\n",
    "# print(config)\n",
    "print(f\"Number of steps per epoch: {len(dataloader)}\")\n"
   ]
  },
  {
   "cell_type": "code",
   "execution_count": 8,
   "metadata": {},
   "outputs": [
    {
     "ename": "NameError",
     "evalue": "name 'config' is not defined",
     "output_type": "error",
     "traceback": [
      "\u001b[0;31m---------------------------------------------------------------------------\u001b[0m",
      "\u001b[0;31mNameError\u001b[0m                                 Traceback (most recent call last)",
      "Cell \u001b[0;32mIn[8], line 8\u001b[0m\n\u001b[1;32m      1\u001b[0m \u001b[38;5;66;03m## START TRAINING FROM CHECKPOINT\u001b[39;00m\n\u001b[1;32m      2\u001b[0m trainer \u001b[38;5;241m=\u001b[39m Trainer(\n\u001b[1;32m      3\u001b[0m     dataloader\u001b[38;5;241m=\u001b[39mdataloader,\n\u001b[1;32m      4\u001b[0m     embeddings\u001b[38;5;241m=\u001b[39membeddings,\n\u001b[1;32m      5\u001b[0m     model\u001b[38;5;241m=\u001b[39mmodel,\n\u001b[1;32m      6\u001b[0m     loss_fn\u001b[38;5;241m=\u001b[39mloss_fn,\n\u001b[1;32m      7\u001b[0m     optimizer\u001b[38;5;241m=\u001b[39moptimizer,\n\u001b[0;32m----> 8\u001b[0m     config\u001b[38;5;241m=\u001b[39mconfig,\n\u001b[1;32m      9\u001b[0m )\n\u001b[1;32m     10\u001b[0m trainer\u001b[38;5;241m.\u001b[39mtrain()\n",
      "\u001b[0;31mNameError\u001b[0m: name 'config' is not defined"
     ]
    }
   ],
   "source": [
    "## START TRAINING FROM CHECKPOINT\n"
   ]
  },
  {
   "cell_type": "code",
   "execution_count": null,
   "metadata": {},
   "outputs": [],
   "source": []
  },
  {
   "cell_type": "code",
   "execution_count": null,
   "metadata": {},
   "outputs": [],
   "source": []
  },
  {
   "cell_type": "code",
   "execution_count": null,
   "metadata": {},
   "outputs": [],
   "source": []
  },
  {
   "cell_type": "code",
   "execution_count": null,
   "metadata": {},
   "outputs": [],
   "source": []
  },
  {
   "cell_type": "code",
   "execution_count": null,
   "metadata": {},
   "outputs": [],
   "source": []
  },
  {
   "cell_type": "code",
   "execution_count": null,
   "metadata": {},
   "outputs": [],
   "source": []
  }
 ],
 "metadata": {
  "kernelspec": {
   "display_name": "pytcu11",
   "language": "python",
   "name": "python3"
  },
  "language_info": {
   "codemirror_mode": {
    "name": "ipython",
    "version": 3
   },
   "file_extension": ".py",
   "mimetype": "text/x-python",
   "name": "python",
   "nbconvert_exporter": "python",
   "pygments_lexer": "ipython3",
   "version": "3.12.5"
  }
 },
 "nbformat": 4,
 "nbformat_minor": 4
}
